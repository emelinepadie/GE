{
 "cells": [
  {
   "cell_type": "markdown",
   "metadata": {},
   "source": [
    "## PARTIE I: Etude thermique simplifiée"
   ]
  },
  {
   "cell_type": "markdown",
   "metadata": {},
   "source": [
    "#### 1.1 Réaliser un bilan d'enthalpie sur chaque zone en régime stationnaire et donner l'expression des températures de chaque zone $T_{asm}, T_{acm}, T_{psm}, T_{pvm}$  "
   ]
  },
  {
   "cell_type": "markdown",
   "metadata": {},
   "source": [
    "1.\tZone d’aire de la serre (asm) :\n",
    "\n",
    "Le bilan d’enthalpie pour cette zone s’écrit comme suit :\n",
    "$\\overset{.}{Q_{in}} - \\overset{.}{Q_{out}} = \\overset{.}{q_0}c_{ps}(T_{asm} - T_{init})$\n",
    "\n",
    "2.\tZone d’air de la cheminée (acm) :\n",
    "\n",
    "Le bilan d’enthalpie pour cette zone s’écrit comme suit :\n",
    "$\\overset{.}{Q_{in}} - \\overset{.}{Q_{out}} = \\overset{.}{q_0}c_{pc}(T_{acm} - T_{init})$\n",
    "\n",
    "3.\tZone de paroi du vitrage de la serre (pvm) :\n",
    "\n",
    "Le bilan d’enthalpie pour cette zone s’écrit comme suit :\n",
    "$\\overset{.}{Q_{in}} - \\overset{.}{Q_{out}} = 0$\n",
    "Puisque la paroi est considérée adiabatique.\n",
    "\n",
    "4.\tZone de paroi du sol de la serre (psm) :\n",
    "\n",
    "Le bilan d’enthalpie pour cette zone s’écrit comme suit :\n",
    "$\\overset{.}{Q_{in}} - \\overset{.}{Q_{out}} = 0$\n",
    "Puisque la paroi est considérée adiabatique."
   ]
  },
  {
   "cell_type": "markdown",
   "metadata": {},
   "source": [
    "Détermination des coefficients d'échange radiatif.\n",
    "\n",
    "On se place en régime permanent.\n",
    "\n",
    "1. Vitre :\n",
    "\n",
    "$R_{th} = \\frac{\\Delta{T}}{\\phi_{soleil}}$\n",
    "Or : $R_{th} = \\frac{1}{hS}$\n",
    "\n",
    "Donc :  $ h_{vitre} = \\frac{\\phi_{soleil}}{S\\Delta{T}}$\n",
    "\n",
    "2. Sol:\n",
    "\n",
    "On obtient de même : $ h_{sol} = \\frac{\\phi_{sol}}{S\\Delta{T}}$"
   ]
  },
  {
   "cell_type": "markdown",
   "metadata": {},
   "source": [
    "#### 1.2 Application numérique"
   ]
  },
  {
   "cell_type": "markdown",
   "metadata": {},
   "source": [
    "#### 1.3 Justifier l'hypothèse de considérer une température constante de l'air dans la cheminée $T_{acm}$."
   ]
  },
  {
   "cell_type": "markdown",
   "metadata": {},
   "source": [
    "On peut considérer une température constante de l'air dans la cheminée pour plusieurs raisons :\n",
    "\n",
    "- La hauteur de la cheminée est très grande devant les autres grandeurs de sorte que la variation de température le long de la hauteur peut être négligée. Elle favorise aussi une stabilisation de la température à l'intérieur de la cheminée.\n",
    "    \n",
    "- On néglige les pertes de chaleur par conduction à travers la paroi de la cheminée et par convection à l'extérieur."
   ]
  },
  {
   "cell_type": "markdown",
   "metadata": {},
   "source": [
    "#### 1.4 Calculer le rendement thermique de la serre : rapport du flux de chaleur cédé à l’air qui transite dans la serre au flux solaire incident sur la serre "
   ]
  },
  {
   "cell_type": "markdown",
   "metadata": {},
   "source": [
    "$\\eta = \\frac{\\phi_{sol}}{\\phi_{soleil}}$"
   ]
  },
  {
   "cell_type": "markdown",
   "metadata": {},
   "source": [
    "## Partie II : étude aérolique simplifiée"
   ]
  },
  {
   "cell_type": "markdown",
   "metadata": {},
   "source": [
    "#### 2.1 Appliquer le principe fondamental de la statique des fluides entre 1’ et 2’ à l’extérieur de la cheminée  "
   ]
  },
  {
   "cell_type": "markdown",
   "metadata": {},
   "source": [
    "Le principe fondamental de la statique des fluides stipule que la somme des pressions statiques et dynamiques reste constante le long d'un écoulement. Entre les points 1' et 2, à l'extérieur de la cheminée, cela se traduit par :\n",
    " \n",
    "$p_{1'} + \\frac{1}{2} \\rho_{ext} V_{1'}^2 = p_{2'} + \\frac{1}{2} \\rho_{ext} V_{2'}^2$"
   ]
  },
  {
   "cell_type": "markdown",
   "metadata": {},
   "source": [
    "#### 2.2 Appliquer le théorème de Bernoulli entre les points 1’ et 2 et en déduire l’expression littérale de la vitesse Vmax et du débit masse qm,max "
   ]
  },
  {
   "cell_type": "markdown",
   "metadata": {},
   "source": [
    "Le théorème de Bernouilli entre les points 1' et 2 donne :\n",
    "\n",
    "$\\frac{p_{1'}}{\\rho_{ext}} + \\frac{1}{2}  V_{1'}^2 + gh_{1'} = \\frac{p_{2}}{\\rho_{c}} + \\frac{1}{2} V_{2}^2+ gh_{2} $\n",
    "\n",
    "D'où:\n",
    "\n",
    "$\\frac{p_{1'}}{\\rho_{ext}} + \\frac{1}{2}  V_{1'}^2 = \\frac{p_{2}}{\\rho_{c}} + \\frac{1}{2} V_{2}^2+ gH_{c} $\n"
   ]
  },
  {
   "cell_type": "markdown",
   "metadata": {},
   "source": [
    "#### 2.3 Déterminer l’expression de la puissance aéraulique maximum récupérable Pmax ainsi que le rendement maximum théorique de la cheminée solaire ηmax : rapport de la puissance aéraulique maximum au flux solaire incident sur la serre.  "
   ]
  },
  {
   "cell_type": "markdown",
   "metadata": {},
   "source": [
    "#### 2.4 Réaliser l’application numérique en reprenant les calculs de la partie 1.  "
   ]
  },
  {
   "cell_type": "markdown",
   "metadata": {},
   "source": [
    "## PARTIE III : Etude thermique détaillée"
   ]
  },
  {
   "cell_type": "markdown",
   "metadata": {},
   "source": [
    "#### 3.1 Isoler un anneau élémentaire de hauteur Hs, de périmètre moyen 2πr et d’épaisseur ∆r et réaliser un bilan d’enthalpie sur l’air de la serre, la vitre et l’air de la cheminée en régime stationnaire (on négligera la conduction dans le verre et dans le sol entre deux nœuds voisins).  "
   ]
  },
  {
   "cell_type": "markdown",
   "metadata": {},
   "source": [
    "#### 3.2 En utilisant les résultats de la question 2, résoudre le système d’équations (thermique et aéraulique) et donner les profils de température dans la serre ( air, sol et vitrage) "
   ]
  },
  {
   "cell_type": "markdown",
   "metadata": {},
   "source": [
    "## PARIE IV : Etude aéraulique détaillée"
   ]
  },
  {
   "cell_type": "markdown",
   "metadata": {},
   "source": [
    "#### 4.1 Déterminer l’expression du coefficient de perte de charge linéique dans la cheminée Λ "
   ]
  },
  {
   "cell_type": "markdown",
   "metadata": {},
   "source": [
    "#### 4.2 Appliquer le théorème de Bernoulli entre les points 1’ et 2 et en déduire l’expression littérale du débit réel qm.  "
   ]
  },
  {
   "cell_type": "markdown",
   "metadata": {},
   "source": [
    "#### 4.3 Déterminer l’expression de la puissance mécanique récupérable P ainsi que le rendement mécanique de la cheminée solaire η : rapport de la puissance mécanique récupérable par les turbines au flux solaire incident sur la serre.  "
   ]
  },
  {
   "cell_type": "markdown",
   "metadata": {},
   "source": [
    "#### 4.4 Réaliser l’application numérique pour résoudre l’ensemble du problème thermoaéraulique. Commenter. "
   ]
  },
  {
   "cell_type": "markdown",
   "metadata": {},
   "source": []
  }
 ],
 "metadata": {
  "language_info": {
   "name": "python"
  }
 },
 "nbformat": 4,
 "nbformat_minor": 2
}
