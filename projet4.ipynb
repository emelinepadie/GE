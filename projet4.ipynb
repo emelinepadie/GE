{
 "cells": [
  {
   "cell_type": "markdown",
   "metadata": {},
   "source": [
    "## PARTIE I: Etude thermique simplifiée"
   ]
  },
  {
   "cell_type": "markdown",
   "metadata": {},
   "source": [
    "#### 1.1 Réaliser un bilan d'enthalpie sur chaque zone en régime stationnaire et donner l'expression des températures de chaque zone $T_{asm}, T_{acm}, T_{psm}, T_{pvm}$  "
   ]
  },
  {
   "cell_type": "markdown",
   "metadata": {},
   "source": [
    "$\\textbf{1.\tZone d’aire de la serre (asm) :}$\n",
    "\n",
    "Le bilan d’enthalpie pour cette zone s’écrit comme suit :\n",
    "$\\overset{.}{Q_{in}} - \\overset{.}{Q_{out}} = \\overset{.}{q_{m0}}c_{ps}(T_{asm} - T_{init})$\n",
    "\n",
    "D'autre part, \n",
    "$\\overset{.}{Q_{in}} - \\overset{.}{Q_{out}} = S\\phi + \\Phi_{sol}$\n",
    "\n",
    "Or: $\\Phi_{sol} = \\frac{(T_{asm} - T_{init})}{\\frac{1}{h_{cs}S}}$\n",
    "\n",
    "Et: $S = \\frac{\\pi}{2}Ds^2$\n",
    "\n",
    "Avec : $c_{ps} = -0,00000018628*(273+ T_{asm})^3 + 0,00045653*(273+ T_{asm})^2 – 0,1361*(273+ T_{asm}) +1009 $\n",
    "\n",
    "D'où : $\\overset{.}{q_{m0}}(-0,00000018628*(273+ T_{asm})^3 + 0,00045653*(273+ T_{asm})^2 – 0,1361*(273+ T_{asm}) +1009)(T_{asm} - T_{init}) =  S\\phi + h_{cs}S (T_{asm} - T_{init}) $\n",
    "\n",
    "D'où, en posant : $T'_{asm} = 273 + T_{asm}$ et $T'_{init} = 273 + T_{init}$ \n",
    "\n",
    "$\\overset{.}{q_{m0}}(-0,00000018628(T'_{asm})^4 + (0,00045653 -0,00000018628T'_{init}) *(T'_{asm})^3 – (0,1361 - 0,00045653T'_{init})( T'_{asm})^2 +(1009 - 0,1361T'_{init}) T'_{asm} - 1009T'_{init}) =  S\\phi + h_{cs}S (T'_{asm} - T'_{init})$\n",
    "\n",
    "\n",
    "$\\textbf{2.\tZone d’air de la cheminée (acm) :}$\n",
    "\n",
    "\n",
    "\n",
    "$\\textbf{3.\tZone de paroi du vitrage de la serre (pvm) :}$\n",
    "\n",
    "La somme des flux passant à travers la vitre est nul. Donc :\n",
    "\n",
    "$\\phi S + h_{es}S(T_{pvm} - T_{ext}) + h_{cv}S(T_{asm} - T_{pvm}) + \\Phi_{sol} = 0$\n",
    "\n",
    "Or : $\\Phi_{sol} = SM^0$  avec $M^0 = \\sigma(T_{psm})^4$ car le sol est assimilé à un corps noir. \n",
    "\n",
    "Donc : $T_{pvm} = \\frac{(h_{es}T_{ext} - h_{cv}T_{asm}) - \\phi - \\sigma(T_{psm})^4}{h_{es} - h_{cv}}$\n",
    "\n",
    "$\\textbf{4.\tZone de paroi du sol de la serre (psm) :}$\n",
    "\n",
    "Puisque la paroi est considérée adiabatique : $\\overset{.}{Q_{in}} - \\overset{.}{Q_{out}} = 0$\n",
    "\n",
    "D'autre part, $\\overset{.}{Q_{in}} - \\overset{.}{Q_{out}} = S \\phi - \\Phi_{sol}$\n",
    "\n",
    "Or : $\\Phi_{sol} = SM^0$  avec $M^0 = \\sigma(T_{psm})^4$ car le sol est assimilé à un corps noir. \n",
    "\n",
    "Donc : $T_{psm} = (\\frac{\\phi}{\\sigma})^{\\frac{1}{4}}$\n"
   ]
  },
  {
   "cell_type": "markdown",
   "metadata": {},
   "source": [
    "## Autre proposition\n",
    "\n",
    "$\\textbf{Zone de paroi du sol de la serre (psm) :}$\n",
    "\n",
    "Puisque la paroi est considérée adiabatique : $\\overset{.}{Q_{in}} - \\overset{.}{Q_{out}} = 0$\n",
    "\n",
    "D'autre part, $\\overset{.}{Q_{in}} - \\overset{.}{Q_{out}} = S \\phi - \\Phi_{sol}$\n",
    "\n",
    "Or : $\\Phi_{sol} = SM^0$  avec $M^0 = \\sigma(T_{psm})^4$ car le sol est assimilé à un corps noir. \n",
    "\n",
    "Donc : $T_{psm} = (\\frac{\\phi}{\\sigma})^{\\frac{1}{4}}$\n",
    "\n",
    "$\\textbf{Zone air serre (asm) :}$\n",
    "\n",
    "En régime stationnaire, la somme des flux surfaciques est nulle. Donc :\n",
    "\n",
    "$\\phi + h_{cv}(T_{asm}-T_{air}) - h_{cs}(T_{psm} - T_{asm}) - \\sigma (T_{psm})^{\\frac{1}{4}} = 0 $\n",
    "\n",
    "Avec le rayonnement surfacique du sol qui vaut : $\\phi_{sol} = \\sigma(T_{psm})^4$ \n",
    "\n",
    "Donc : $T_{asm} = \\frac{h_{cv}T_{air} + h_{cs}T_{psm} + \\sigma (T_{psm})^{\\frac{1}{4}} - \\phi}{h_{cv} + h_{cs}}$\n",
    "\n",
    "$\\textbf{Zone de paroi du vitrage de la serre (pvm) :}$\n",
    "\n",
    "La somme des flux passant à travers la vitre est nul. Donc :\n",
    "\n",
    "$\\phi S + h_{es}S(T_{pvm} - T_{ext}) + h_{cv}S(T_{asm} - T_{pvm}) - \\Phi_{sol} = 0$\n",
    "\n",
    "Or : $\\Phi_{sol} = SM^0$  avec $M^0 = \\sigma(T_{psm})^4$ car le sol est assimilé à un corps noir. \n",
    "\n",
    "Donc : $T_{pvm} = \\frac{(h_{es}T_{ext} - h_{cv}T_{asm}) - \\phi + \\sigma(T_{psm})^4}{h_{es} - h_{cv}}$\n",
    "\n",
    "$\\textbf{Zone d'air de la cheminée :}$\n"
   ]
  },
  {
   "cell_type": "markdown",
   "metadata": {},
   "source": [
    "$\\textbf{Détermination des coefficients d'échange radiatif.}$\n",
    "\n",
    "On se place en régime permanent.\n",
    "\n",
    "1. Vitre :\n",
    "\n",
    "$R_{th} = \\frac{\\Delta{T}}{\\phi_{soleil}}$\n",
    "Or : $R_{th} = \\frac{1}{hS}$\n",
    "\n",
    "Donc :  $ h_{vitre} = \\frac{\\phi_{soleil}}{S\\Delta{T}}$\n",
    "\n",
    "2. Sol:\n",
    "\n",
    "On obtient de même : $ h_{sol} = \\frac{\\phi_{sol}}{S\\Delta{T}}$"
   ]
  },
  {
   "cell_type": "markdown",
   "metadata": {},
   "source": [
    "#### 1.2 Application numérique"
   ]
  },
  {
   "cell_type": "markdown",
   "metadata": {},
   "source": [
    "$T_{asm} = $\n",
    "\n",
    "$T_{acm} = $\n",
    "\n",
    "$T_{pvm} = $\n",
    "\n",
    "$T_{psm} = $"
   ]
  },
  {
   "cell_type": "markdown",
   "metadata": {},
   "source": [
    "#### 1.3 Justifier l'hypothèse de considérer une température constante de l'air dans la cheminée $T_{acm}$."
   ]
  },
  {
   "cell_type": "markdown",
   "metadata": {},
   "source": [
    "On peut considérer une température constante de l'air dans la cheminée pour plusieurs raisons :\n",
    "\n",
    "- La hauteur de la cheminée est très grande devant les autres grandeurs de sorte que la variation de température le long de la hauteur peut être négligée. Elle favorise aussi une stabilisation de la température à l'intérieur de la cheminée.\n",
    "    \n",
    "- On néglige les pertes de chaleur par conduction à travers la paroi de la cheminée et par convection à l'extérieur."
   ]
  },
  {
   "cell_type": "markdown",
   "metadata": {},
   "source": [
    "#### 1.4 Calculer le rendement thermique de la serre : rapport du flux de chaleur cédé à l’air qui transite dans la serre au flux solaire incident sur la serre "
   ]
  },
  {
   "cell_type": "markdown",
   "metadata": {},
   "source": [
    "$\\eta = \\frac{\\phi_{sol}}{\\phi_{soleil}}$"
   ]
  },
  {
   "cell_type": "markdown",
   "metadata": {},
   "source": [
    "## Partie II : étude aérolique simplifiée"
   ]
  },
  {
   "cell_type": "markdown",
   "metadata": {},
   "source": [
    "#### 2.1 Appliquer le principe fondamental de la statique des fluides entre 1’ et 2’ à l’extérieur de la cheminée  "
   ]
  },
  {
   "cell_type": "markdown",
   "metadata": {},
   "source": [
    "Le principe fondamental de la statique des fluides donne :\n",
    "\n",
    "$\\Delta{p_{1-2}} = \\rho_{ext} g \\Delta{h_{1-2}}$\n",
    "\n",
    "D'où :\n",
    " \n",
    "$p_{1'} -  p_{2'} =  \\rho_{ext} g (H_c + \\frac{1}{2}H_s) $"
   ]
  },
  {
   "cell_type": "markdown",
   "metadata": {},
   "source": [
    "#### 2.2 Appliquer le théorème de Bernoulli entre les points 1’ et 2 et en déduire l’expression littérale de la vitesse $V_{max}$ et du débit masse $q_{m,max} $"
   ]
  },
  {
   "cell_type": "markdown",
   "metadata": {},
   "source": [
    "Le théorème de Bernouilli entre les points 1' et 2 donne :\n",
    "\n",
    "$\\frac{p_{1'}}{\\rho_{ext}} + \\frac{1}{2}  V_{1'}^2 + gh_{1'} = \\frac{p_{2}}{\\rho_{c}} + \\frac{1}{2} V_{2}^2+ gh_{2} $\n",
    "\n",
    "On a de plus : $V_{1'} = 0$ ; $V_{2} = V_{max}$ et $p_{1'} = p_0$\n",
    "\n",
    "D'où:\n",
    "\n",
    "$\\frac{1}{2} V_{max}^2 = \\frac{p_{0}}{\\rho_{ext}} - \\frac{p_{2}}{\\rho_{c}} -  g(H_{c} + \\frac{1}{2} H_s) $\n",
    "\n",
    "Donc : $V_{max} = \\sqrt{2 (\\frac{p_{0}}{\\rho_{ext}} - \\frac{p_{2}}{\\rho_{c}} -  g(H_{c} + \\frac{1}{2} H_s))}$\n",
    "\n",
    "On a de plus : $p_2 = \\frac{\\rho_{c}}{M_{air}} T_{acm} = \\frac{\\rho_{c}T_{acm}}{\\rho_{ext}T_{ext}} p_0$\n",
    "\n",
    "Ainsi : $V_{max} = \\sqrt{2 ((\\rho_{ext} - \\frac{T_{acm}}{\\rho_{ext}T_{ext}}) p_0 -  g(H_{c} + \\frac{1}{2} H_s))}$\n",
    "\n",
    "On a aussi: $q_{m,max} = \\frac{V_{max}S_c}{\\rho_c} = \\frac{\\pi}{2}\\frac{ V_{max} (D_{ci})^2}{\\rho_c} $\n"
   ]
  },
  {
   "cell_type": "markdown",
   "metadata": {},
   "source": [
    "#### 2.3 Déterminer l’expression de la puissance aéraulique maximum récupérable Pmax ainsi que le rendement maximum théorique de la cheminée solaire ηmax : rapport de la puissance aéraulique maximum au flux solaire incident sur la serre.  "
   ]
  },
  {
   "cell_type": "markdown",
   "metadata": {},
   "source": [
    "Par définition : $P_{max} = q_{v, max} \\Delta{p}$\n",
    "\n",
    "Or : $q_{v, max} = \\rho_c q_{m, max}$\n",
    "\n",
    "Donc : $P_{max} = \\rho_c q_{m, max} (p_2 - p_0) = \\rho_c q_{m, max} (\\rho_{ext} - \\frac{T_{acm}}{\\rho_{ext}T_{ext}}) p_0 $\n"
   ]
  },
  {
   "cell_type": "markdown",
   "metadata": {},
   "source": [
    "#### 2.4 Réaliser l’application numérique en reprenant les calculs de la partie 1.  "
   ]
  },
  {
   "cell_type": "markdown",
   "metadata": {},
   "source": [
    "## PARTIE III : Etude thermique détaillée"
   ]
  },
  {
   "cell_type": "markdown",
   "metadata": {},
   "source": [
    "#### 3.1 Isoler un anneau élémentaire de hauteur Hs, de périmètre moyen 2πr et d’épaisseur ∆r et réaliser un bilan d’enthalpie sur l’air de la serre, la vitre et l’air de la cheminée en régime stationnaire (on négligera la conduction dans le verre et dans le sol entre deux nœuds voisins).  "
   ]
  },
  {
   "cell_type": "markdown",
   "metadata": {},
   "source": [
    "#### 3.2 En utilisant les résultats de la question 2, résoudre le système d’équations (thermique et aéraulique) et donner les profils de température dans la serre ( air, sol et vitrage) "
   ]
  },
  {
   "cell_type": "markdown",
   "metadata": {},
   "source": [
    "## PARIE IV : Etude aéraulique détaillée"
   ]
  },
  {
   "cell_type": "markdown",
   "metadata": {},
   "source": [
    "#### 4.1 Déterminer l’expression du coefficient de perte de charge linéique dans la cheminée Λ "
   ]
  },
  {
   "cell_type": "markdown",
   "metadata": {},
   "source": [
    "#### 4.2 Appliquer le théorème de Bernoulli entre les points 1’ et 2 et en déduire l’expression littérale du débit réel qm.  "
   ]
  },
  {
   "cell_type": "markdown",
   "metadata": {},
   "source": [
    "#### 4.3 Déterminer l’expression de la puissance mécanique récupérable P ainsi que le rendement mécanique de la cheminée solaire η : rapport de la puissance mécanique récupérable par les turbines au flux solaire incident sur la serre.  "
   ]
  },
  {
   "cell_type": "markdown",
   "metadata": {},
   "source": [
    "#### 4.4 Réaliser l’application numérique pour résoudre l’ensemble du problème thermoaéraulique. Commenter. "
   ]
  },
  {
   "cell_type": "markdown",
   "metadata": {},
   "source": []
  }
 ],
 "metadata": {
  "language_info": {
   "name": "python"
  }
 },
 "nbformat": 4,
 "nbformat_minor": 2
}
