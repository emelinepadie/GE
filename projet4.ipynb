{
 "cells": [
  {
   "cell_type": "markdown",
   "metadata": {},
   "source": [
    "## PARTIE I: Etude thermique simplifiée"
   ]
  },
  {
   "cell_type": "markdown",
   "metadata": {},
   "source": [
    "#### 1.1 Réaliser un bilan d'enthalpie sur chaque zone en régime stationnaire et donner l'expression des températures de chaque zone $T_{asm}, T_{acm}, T_{psm}, T_{pvm}$  "
   ]
  },
  {
   "cell_type": "markdown",
   "metadata": {},
   "source": [
    "$\\textbf{1.\tZone d’aire de la serre (asm) :}$\n",
    "\n",
    "Le bilan d’enthalpie pour cette zone s’écrit comme suit :\n",
    "$\\overset{.}{Q_{in}} - \\overset{.}{Q_{out}} = \\overset{.}{q_{m0}}c_{ps}(T_{asm} - T_{init})$\n",
    "\n",
    "D'autre part, \n",
    "$\\overset{.}{Q_{in}} - \\overset{.}{Q_{out}} = S\\phi + \\Phi_{sol}$\n",
    "\n",
    "Or: $\\Phi_{sol} = \\frac{(T_{asm} - T_{init})}{\\frac{1}{h_{cs}S}}$\n",
    "\n",
    "Et: $S = \\frac{\\pi}{2}Ds^2$\n",
    "\n",
    "Avec : $c_{ps} = -0,00000018628*(273+ T_{asm})^3 + 0,00045653*(273+ T_{asm})^2 – 0,1361*(273+ T_{asm}) +1009 $\n",
    "\n",
    "D'où : $\\overset{.}{q_{m0}}(-0,00000018628*(273+ T_{asm})^3 + 0,00045653*(273+ T_{asm})^2 – 0,1361*(273+ T_{asm}) +1009)(T_{asm} - T_{init}) =  S\\phi + h_{cs}S (T_{asm} - T_{init}) $\n",
    "\n",
    "D'où, en posant : $T'_{asm} = 273 + T_{asm}$ et $T'_{init} = 273 + T_{init}$ \n",
    "\n",
    "$\\overset{.}{q_{m0}}(-0,00000018628(T'_{asm})^4 + (0,00045653 -0,00000018628T'_{init}) *(T'_{asm})^3 – (0,1361 - 0,00045653T'_{init})( T'_{asm})^2 +(1009 - 0,1361T'_{init}) T'_{asm} - 1009T'_{init}) =  S\\phi + h_{cs}S (T'_{asm} - T'_{init})$\n",
    "\n",
    "\n",
    "$\\textbf{2.\tZone d’air de la cheminée (acm) :}$\n",
    "\n",
    "\n",
    "\n",
    "$\\textbf{3.\tZone de paroi du vitrage de la serre (pvm) :}$\n",
    "\n",
    "La somme des flux passant à travers la vitre est nul. Donc :\n",
    "\n",
    "$\\phi S + h_{es}S(T_{pvm} - T_{ext}) + h_{cv}S(T_{asm} - T_{pvm}) + \\Phi_{sol} = 0$\n",
    "\n",
    "Or : $\\Phi_{sol} = SM^0$  avec $M^0 = \\sigma(T_{psm})^4$ car le sol est assimilé à un corps noir. \n",
    "\n",
    "Donc : $T_{pvm} = \\frac{(h_{es}T_{ext} - h_{cv}T_{asm}) - \\phi - \\sigma(T_{psm})^4}{h_{es} - h_{cv}}$\n",
    "\n",
    "$\\textbf{4.\tZone de paroi du sol de la serre (psm) :}$\n",
    "\n",
    "Puisque la paroi est considérée adiabatique : $\\overset{.}{Q_{in}} - \\overset{.}{Q_{out}} = 0$\n",
    "\n",
    "D'autre part, $\\overset{.}{Q_{in}} - \\overset{.}{Q_{out}} = S \\phi - \\Phi_{sol}$\n",
    "\n",
    "Or : $\\Phi_{sol} = SM^0$  avec $M^0 = \\sigma(T_{psm})^4$ car le sol est assimilé à un corps noir. \n",
    "\n",
    "Donc : $T_{psm} = (\\frac{\\phi}{\\sigma})^{\\frac{1}{4}}$\n"
   ]
  },
  {
   "cell_type": "markdown",
   "metadata": {},
   "source": [
    "## Autre proposition\n",
    "\n",
    "$\\textbf{Zone de paroi du sol de la serre (psm) :}$\n",
    "\n",
    "Puisque la paroi est considérée adiabatique : $\\overset{.}{Q_{in}} - \\overset{.}{Q_{out}} = 0$\n",
    "\n",
    "D'autre part, $\\overset{.}{Q_{in}} - \\overset{.}{Q_{out}} = S \\phi - \\Phi_{sol}$\n",
    "\n",
    "Or : $\\Phi_{sol} = SM^0$  avec $M^0 = \\sigma(T_{psm})^4$ car le sol est assimilé à un corps noir. \n",
    "\n",
    "Donc : $T_{psm} = (\\frac{\\phi}{\\sigma})^{\\frac{1}{4}}$\n",
    "\n",
    "$\\textbf{Zone air serre (asm) :}$\n",
    "\n",
    "En régime stationnaire, la somme des flux surfaciques est nulle. Donc :\n",
    "\n",
    "$\\phi + h_{cv}(T_{asm}-T_{air}) - h_{cs}(T_{psm} - T_{asm}) - \\sigma (T_{psm})^{\\frac{1}{4}} = 0 $\n",
    "\n",
    "Avec le rayonnement surfacique du sol qui vaut : $\\phi_{sol} = \\sigma(T_{psm})^4$ \n",
    "\n",
    "Donc : $T_{asm} = \\frac{h_{cv}T_{air} + h_{cs}T_{psm} + \\sigma (T_{psm})^{\\frac{1}{4}} - \\phi}{h_{cv} + h_{cs}}$\n",
    "\n",
    "$\\textbf{Zone de paroi du vitrage de la serre (pvm) :}$\n",
    "\n",
    "La somme des flux passant à travers la vitre est nul. Donc :\n",
    "\n",
    "$\\phi S + h_{es}S(T_{pvm} - T_{ext}) + h_{cv}S(T_{asm} - T_{pvm}) - \\Phi_{sol} = 0$\n",
    "\n",
    "Or : $\\Phi_{sol} = SM^0$  avec $M^0 = \\sigma(T_{psm})^4$ car le sol est assimilé à un corps noir. \n",
    "\n",
    "Donc : $T_{pvm} = \\frac{(h_{es}T_{ext} - h_{cv}T_{asm}) - \\phi + \\sigma(T_{psm})^4}{h_{es} - h_{cv}}$\n",
    "\n",
    "$\\textbf{Zone d'air de la cheminée :}$\n"
   ]
  },
  {
   "cell_type": "markdown",
   "metadata": {},
   "source": [
    "$\\textbf{Détermination des coefficients d'échange radiatif.}$\n",
    "\n",
    "On se place en régime permanent.\n",
    "\n",
    "1. Vitre :\n",
    "\n",
    "$R_{th} = \\frac{\\Delta{T}}{\\phi_{soleil}}$\n",
    "Or : $R_{th} = \\frac{1}{hS}$\n",
    "\n",
    "Donc :  $ h_{vitre} = \\frac{\\phi_{soleil}}{S\\Delta{T}}$\n",
    "\n",
    "2. Sol:\n",
    "\n",
    "On obtient de même : $ h_{sol} = \\frac{\\phi_{sol}}{S\\Delta{T}}$"
   ]
  },
  {
   "cell_type": "markdown",
   "metadata": {},
   "source": [
    "#### 1.2 Application numérique"
   ]
  },
  {
   "cell_type": "markdown",
   "metadata": {},
   "source": [
    "$T_{asm} = $\n",
    "\n",
    "$T_{acm} = $\n",
    "\n",
    "$T_{pvm} = $\n",
    "\n",
    "$T_{psm} = $"
   ]
  },
  {
   "cell_type": "markdown",
   "metadata": {},
   "source": [
    "#### 1.3 Justifier l'hypothèse de considérer une température constante de l'air dans la cheminée $T_{acm}$."
   ]
  },
  {
   "cell_type": "markdown",
   "metadata": {},
   "source": [
    "On peut considérer une température constante de l'air dans la cheminée pour plusieurs raisons :\n",
    "\n",
    "- La hauteur de la cheminée est très grande devant les autres grandeurs de sorte que la variation de température le long de la hauteur peut être négligée. Elle favorise aussi une stabilisation de la température à l'intérieur de la cheminée.\n",
    "    \n",
    "- On néglige les pertes de chaleur par conduction à travers la paroi de la cheminée et par convection à l'extérieur."
   ]
  },
  {
   "cell_type": "markdown",
   "metadata": {},
   "source": [
    "#### 1.4 Calculer le rendement thermique de la serre : rapport du flux de chaleur cédé à l’air qui transite dans la serre au flux solaire incident sur la serre "
   ]
  },
  {
   "cell_type": "markdown",
   "metadata": {},
   "source": [
    "$\\eta = \\frac{\\phi_{sol}}{\\phi_{soleil}}$"
   ]
  },
  {
   "cell_type": "markdown",
   "metadata": {},
   "source": [
    "## Partie II : étude aérolique simplifiée"
   ]
  },
  {
   "cell_type": "markdown",
   "metadata": {},
   "source": [
    "#### 2.1 Appliquer le principe fondamental de la statique des fluides entre 1’ et 2’ à l’extérieur de la cheminée  "
   ]
  },
  {
   "cell_type": "markdown",
   "metadata": {},
   "source": [
    "Le principe fondamental de la statique des fluides entre 1' et 2' donne : $\\nabla{p} = \\rho g $\n",
    "\n",
    "Par projection sur l'axe $Oz$, on obtient : $\\frac{dp}{dz} = - \\rho g$\n",
    "\n",
    "On a de plus, $\\rho = \\frac{pM}{RT} = \\frac{p}{r_{air}T_{ext}} $  car on considère l'atmosphère comme isotherme à la température $T_{ext}$.\n",
    "\n",
    "D'où : $\\frac{dp}{dz} = -\\frac{g}{r_{air}T_{ext}} p$\n",
    "\n",
    "Donc : $p(z) = A \\exp{(-\\frac{g}{r_{air}T_{ext}} z)}$\n",
    "On pose $z = 0$ en $1'$. \n",
    "\n",
    "On a alors : $p(0) = A = p_0$\n",
    "\n",
    "Donc : $p(z) = p_0 \\exp{(-\\frac{g}{r_{air}T_{ext}} z)}$\n",
    "\n",
    "Donc, $p_{2'} = p(H_c + \\frac{H_s}{2}) = p_0 \\exp{(-\\frac{g}{r_{air}T_{ext}} \\cdot (H_c + \\frac{H_s}{2}))}$"
   ]
  },
  {
   "cell_type": "markdown",
   "metadata": {},
   "source": [
    "#### 2.2 Appliquer le théorème de Bernoulli entre les points 1’ et 2 et en déduire l’expression littérale de la vitesse $V_{max}$ et du débit masse $q_{m,max} $"
   ]
  },
  {
   "cell_type": "markdown",
   "metadata": {},
   "source": [
    "On considère le fluide comme parfait et l'écoulement laminaire. \n",
    "Le théorème de Bernoulli entre les points 1' et 2 donne :\n",
    "\n",
    "$p_{1'} + \\frac{\\rho_{1'}}{2}  V_{1'}^2 + g\\rho_{1'}h_{1'} = p_{2} + \\frac{\\rho_{2}}{2} V_{2}^2+ g\\rho_{2}h_{2} $\n",
    "\n",
    "On a de plus que le débit massique se conserve, i.e. $S_{1'} \\rho_{1'} V_{1'} = A_c \\rho_2 V_2$ .\n",
    "\n",
    "On sait aussi que $V_{2} = V_{max}$ car par conservation du débit massique, la vitesse est maximale lorsque $S$ et $\\rho$ sont minimales, ce qui se produit en 2 car $\\rho$ est une fonction décroissante de $z$ (puisque $p$ l'est). \n",
    "\n",
    "Donc, il vient : \n",
    "\n",
    "$V_{max} = \\sqrt{2\\frac{S_{1'}^2\\rho_{1'}}{S_{1'}^2\\rho_{1'}\\rho_2 - (A_c\\rho_2)^2} (p_{1'} - p_{2} + g(\\rho_{1'} H_s - \\rho_2 (H_{c} + H_s)))}$\n",
    "\n",
    "Il nous faut l'expression de $p_2$. On considère l'écoulement parfaitement vertical, dans ce cas, l'équation de Navier-Stokes nous assure qu'il n'y a pas de fradient de température perpendiculairement à l'écoulement. Ainsi, on a $p_2 = p_{2'}$. On a donc aussi: $ \\rho_2 = \\frac{p_{2'}}{r_{air}T_{acm}}$.\n",
    "On connaît la valeur de $p_{2'}$ grâce à la question précédente. \n",
    "\n",
    "On obtient de même que $ \\rho_{1'} = \\frac{p_{1'}}{r_{air}T_{ext}}$, et $p_{1'} = p_0$.\n",
    "\n",
    "On a donc tous les termes dont dépend $V_{max}$.\n",
    "\n",
    "On en déduit ensuite $q_{m,max}$ via l'expression : $q_{m,max} = A_c \\rho_2 V_{max}$.\n"
   ]
  },
  {
   "cell_type": "markdown",
   "metadata": {},
   "source": [
    "#### 2.3 Déterminer l’expression de la puissance aéraulique maximum récupérable Pmax ainsi que le rendement maximum théorique de la cheminée solaire ηmax : rapport de la puissance aéraulique maximum au flux solaire incident sur la serre.  "
   ]
  },
  {
   "cell_type": "markdown",
   "metadata": {},
   "source": [
    "On a : $P_{max} = \\frac{dE_{max}}{dt} = \\frac{1}{2}q_{m,max}V_{max}^2$ \n",
    "\n",
    "Et : $\\eta_{max} = \\frac{P_{max}}{A_c \\phi} = \\frac{q_{m,max}V_{max}^2}{2A_c \\phi}$\n"
   ]
  },
  {
   "cell_type": "markdown",
   "metadata": {},
   "source": [
    "#### 2.4 Réaliser l’application numérique en reprenant les calculs de la partie 1.  "
   ]
  },
  {
   "cell_type": "markdown",
   "metadata": {},
   "source": [
    "On a :\n",
    "\n",
    "$V_{max} = 238,27 km.s^{-1}$\n",
    "\n",
    "$q_{m,max} = 4,68 \\cdot 10^5 kg.s^{-1}$\n",
    "\n",
    "$P_{max} = 1,026 GW$\n",
    "\n",
    "$\\eta_{max} = 0,44 = 4,4$%"
   ]
  },
  {
   "cell_type": "markdown",
   "metadata": {},
   "source": [
    "Le rendement de semble pas très élevé. Néanmoins, cela peut s'expliquer par le fait que l'on reçoit une très grande quantité d'énergie solaire et qu'il est difficile de l'exploiter de manière optimale. "
   ]
  },
  {
   "cell_type": "markdown",
   "metadata": {},
   "source": [
    "## PARTIE III : Etude thermique détaillée"
   ]
  },
  {
   "cell_type": "markdown",
   "metadata": {},
   "source": [
    "#### 3.1 Isoler un anneau élémentaire de hauteur Hs, de périmètre moyen 2πr et d’épaisseur ∆r et réaliser un bilan d’enthalpie sur l’air de la serre, la vitre et l’air de la cheminée en régime stationnaire (on négligera la conduction dans le verre et dans le sol entre deux nœuds voisins).  "
   ]
  },
  {
   "cell_type": "markdown",
   "metadata": {},
   "source": [
    "#### 3.2 En utilisant les résultats de la question 2, résoudre le système d’équations (thermique et aéraulique) et donner les profils de température dans la serre ( air, sol et vitrage) "
   ]
  },
  {
   "cell_type": "markdown",
   "metadata": {},
   "source": [
    "## PARIE IV : Etude aéraulique détaillée"
   ]
  },
  {
   "cell_type": "markdown",
   "metadata": {},
   "source": [
    "#### 4.1 Déterminer l’expression du coefficient de perte de charge linéique dans la cheminée Λ "
   ]
  },
  {
   "cell_type": "markdown",
   "metadata": {},
   "source": [
    "D'après la formule de Blasius : $\\Lambda = 0,3164 \\cdot Re^{-\\frac{1}{4}}$\n",
    "\n",
    "Or : $Re = \\frac{\\rho_c V D_{ci}}{\\mu}$\n",
    "\n",
    "Donc : $\\Lambda = 0,3164 \\cdot (\\frac{\\rho_c V D_{ci}}{\\mu})^{-\\frac{1}{4}}$"
   ]
  },
  {
   "cell_type": "markdown",
   "metadata": {},
   "source": [
    "#### 4.2 Appliquer le théorème de Bernoulli entre les points 1’ et 2 et en déduire l’expression littérale du débit réel qm.  "
   ]
  },
  {
   "cell_type": "markdown",
   "metadata": {},
   "source": [
    "Le théorème de Bernoulli généralisé entre les points 1' et 2 donne :\n",
    "\n",
    "$\\frac{p_{0}}{\\rho_{ext}} + g\\frac{H_s}{2} - \\frac{p_{2}}{\\rho_{c}} - \\frac{1}{2} V_{m}^2+ g(H_c + H_s)  = \\Delta E_{1'2} - \\Delta W_{1'2}$ (*)\n",
    "\n",
    "Où : $\\Delta E_{1'2}$ représente les pertes de charges et $\\Delta W_{1'2}$ l'apport de charge par la turbine.\n",
    "\n",
    "La conservation du débit massique donne $q_m = S\\rho V = Cte$\n",
    "D'où : $\\pi D_c H_s \\rho_{1'} V_{1'} = \\frac{\\pi D_{ci}^2}{4}\\rho_{1}V_1 = \\frac{\\pi D_{ci}^2}{4}\\rho_{2}V_2 = q_m$\n",
    "\n",
    "Donc, le terme de perte de charge s'écrit :\n",
    "\n",
    "$\\Delta E_{1'2} = \\frac{\\Lambda H_c \\rho_{1} V_1^2}{2 D_{ci}} + \\frac{K_i \\rho_{1} V_1^2}{2 D_{ci}} = (\\Lambda H_c + K_i)\\cdot \\frac{\\rho_{1} V_1^2}{2 D_{ci}}$\n",
    "\n",
    "Le terme d'apport de charge de la turbine s'écrit :\n",
    "\n",
    "$\\Delta W_{1'2} = \\frac{Kt \\rho_c V^2}{2}$\n",
    "\n",
    "On pose $\\rho_1 = \\rho_2 = \\rho_c$ et $V_1=V_2=V$ pour simplifier. On injecte toutes les relations précédentes dans (*), et en combinant avec ce que l'on a établi en 2.2, il vient :\n",
    "\n",
    "$q_m = \\sqrt{\\frac{p_0(1-\\exp{(-\\frac{gH_c}{r_{air}T_{ext}})}) - \\rho_c g H_c}{\\frac{8}{\\pi^2\\rho_c D_{ci}^2}(\\Lambda \\frac{H_c}{D_{ci}}+K_i+1+K_t) - \\frac{1}{2\\pi^2\\rho_0 D_s^2H_s^2}}}$\n",
    "\n",
    "Le problème est que $\\Lambda$ n'est pas un constante mais dépend de $q_m^\\frac{-1}{4}$. On v donc résoudre numériquement cette équation en fonction de $q_m$."
   ]
  },
  {
   "cell_type": "markdown",
   "metadata": {},
   "source": [
    "#### 4.3 Déterminer l’expression de la puissance mécanique récupérable P ainsi que le rendement mécanique de la cheminée solaire η : rapport de la puissance mécanique récupérable par les turbines au flux solaire incident sur la serre.  "
   ]
  },
  {
   "cell_type": "markdown",
   "metadata": {},
   "source": [
    "La puissance mécanique récupérable vaut $P = \\overset{.}{W_u} = \\frac{q_m}{\\rho_c}\\Delta W_{1'2} = \\frac{1}{2}q_m K_t V^2$\n",
    "\n",
    "Ainsi, on a :\n",
    "$P = \\frac{8K_t q_m^3}{\\pi^2 \\rho_c^2 D_{ci}^4}$\n",
    "\n",
    "Le rendement mécanique est par définition $\\eta = \\frac{P}{A_s \\phi}$. Ainsi, on a:\n",
    "\n",
    "$\\eta = \\frac{8 K_t q_m^3}{A_s \\phi \\pi^2 \\rho_c^2 D_{ci}^4}$"
   ]
  },
  {
   "cell_type": "markdown",
   "metadata": {},
   "source": [
    "#### 4.4 Réaliser l’application numérique pour résoudre l’ensemble du problème thermoaéraulique. Commenter. "
   ]
  },
  {
   "cell_type": "markdown",
   "metadata": {},
   "source": [
    "On va déterminer numériquement $q_m$, puis on en déduira $P$ et $\\eta$.\n",
    "\n"
   ]
  },
  {
   "cell_type": "code",
   "execution_count": 4,
   "metadata": {},
   "outputs": [
    {
     "name": "stdout",
     "output_type": "stream",
     "text": [
      "qm =  294616.84614013846 kg/s\n",
      "P =  202815601.26940352 W\n",
      "eta =  0.008785259009582914\n"
     ]
    }
   ],
   "source": [
    "import numpy as np\n",
    "from scipy.optimize import newton\n",
    "\n",
    "##Constantes\n",
    "Hs= 30\n",
    "p0 = 100000\n",
    "rair = 287\n",
    "g = 9.81\n",
    "muair = 2.08e-5\n",
    "Ki = 0.7\n",
    "Kt = 0.8\n",
    "Text = 273+25 \n",
    "Tacm = 273 + 70.58  \n",
    "Hc = 1000\n",
    "Dci = 100\n",
    "Dce = 101\n",
    "Ds = 7000\n",
    "As = 0.25 * np.pi * (Ds ** 2 - Dce ** 2)\n",
    "phi = 600\n",
    "\n",
    "\n",
    "rho0 = p0/(rair*Text)\n",
    "rhoc = p0 /(rair*Tacm)* np.exp(-(Hc*g)/(rair*Text))\n",
    "\n",
    "##Détermination de qm\n",
    "\n",
    "def h(x):\n",
    "    return x - np.sqrt((p0 * (1 -np.exp( -(g * Hc) / (rair * Text))) - rhoc * g * Hc)/ (8 * (0.3164 * ((4 * x)/\n",
    "    (np.pi * Dci * muair) ) ** (-1/4) * (Hc / Dci) + Ki + 1 + Kt) / (np.pi ** 2 * rhoc * Dci ** 4) - 1/(2 * np.pi ** 2 * rho0 * Ds **2 *Hs **2)))\n",
    "\n",
    "def derh(x):\n",
    "    return 1- (1/2)*((8*Hc)/((np.pi**2 * rhoc * Dci**5) * (p0 *(1 - np.exp(-(g*Hc)/ (rair*Text)))) - rhoc * g * Hc))*h(x)**3*0.3164*(1/(np.pi * Dci * muair)) * (4*x/(np.pi * Dci * muair))**(-5/4)\n",
    "\n",
    "qm = newton(h,200000, derh)\n",
    "\n",
    "#Détermination de P et de eta\n",
    "P = 8 * Kt * qm **3 / (np.pi ** 2 * rhoc**2 *Dci **4)\n",
    "eta = P/ (As * phi)\n",
    "\n",
    "##Affichages\n",
    "\n",
    "print(\"qm = \", qm, \"kg/s\")\n",
    "print(\"P = \", P, \"W\")\n",
    "print(\"eta = \", eta)"
   ]
  },
  {
   "cell_type": "markdown",
   "metadata": {},
   "source": [
    "Donc :\n",
    "$q_m = 2, 95.10^5 kg.s^{-1}$\n",
    "\n",
    "$P = 204 MW$\n",
    "\n",
    "$\\eta = 0,88$ %\n",
    "\n",
    "$V = 149, 3 km.h^{-1}$"
   ]
  },
  {
   "cell_type": "markdown",
   "metadata": {},
   "source": [
    "Ce rendement, plus réaliste, est 5 fois inférieur au rendement théorique. Ainsi, ce système semble peu rentable à installer. Néanmoins, la gratuité de l'énergie solaire peut pousser à regarder plus précisemment le coût de construction des infrastructures. "
   ]
  },
  {
   "cell_type": "markdown",
   "metadata": {},
   "source": []
  }
 ],
 "metadata": {
  "kernelspec": {
   "display_name": "base",
   "language": "python",
   "name": "python3"
  },
  "language_info": {
   "codemirror_mode": {
    "name": "ipython",
    "version": 3
   },
   "file_extension": ".py",
   "mimetype": "text/x-python",
   "name": "python",
   "nbconvert_exporter": "python",
   "pygments_lexer": "ipython3",
   "version": "3.11.4"
  }
 },
 "nbformat": 4,
 "nbformat_minor": 2
}
